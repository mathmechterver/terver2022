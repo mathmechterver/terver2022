{
 "cells": [
  {
   "cell_type": "markdown",
   "metadata": {},
   "source": [
    "# 2. Сходимости случайных величин"
   ]
  },
  {
   "cell_type": "markdown",
   "metadata": {},
   "source": [
    "### Видеоматериалы \n",
    "[Сходимости случайных величин](https://stepik.org/lesson/48680/step/2?unit=26451)"
   ]
  },
  {
   "cell_type": "markdown",
   "metadata": {},
   "source": [
    "### Теория (курс Черновой)\n",
    "[Сходимости почти наверное и по вероятности](https://nsu.ru/mmf/tvims/chernova/tv/lec/node53.html#SECTION0001210)"
   ]
  },
  {
   "cell_type": "markdown",
   "metadata": {},
   "source": [
    "### Сходимость почти наверное (almost everywhere)\n",
    "\n",
    "$$\\xi_n \\overset{\\textrm{п.н.}}{\\to} \\xi$$\n",
    "\n",
    "Если\n",
    "\n",
    "$$P(\\{ \\omega \\in \\Omega : \\xi_n(\\omega) \\underset{n \\to \\infty}{\\to} \\xi(\\omega) \\}) = 1$$ \n",
    "\n",
    "или\n",
    "\n",
    "$$P(\\{ \\omega \\in \\Omega : \\xi_n(\\omega) \\underset{n \\to \\infty}{\\not\\to} \\xi(\\omega) \\}) = 0$$ \n",
    "\n",
    "или [эквивалентно](https://youtu.be/zdiMEFuwUbg?t=732)\n",
    "\n",
    "$$\\forall \\varepsilon > 0 : P(\\{ \\omega \\in \\Omega : \\sup_{k \\geq n} |\\xi_k(\\omega)-\\xi(\\omega)| > \\varepsilon \\}) \\underset{n \\to \\infty}{\\to} 0$$\n",
    "\n",
    "### По вероятности\n",
    "$$\\xi_n \\overset{\\mathbb{P}}{\\to} \\xi$$ \n",
    "\n",
    "Если\n",
    "\n",
    "$$\\forall \\varepsilon > 0 : P(\\{\\omega \\in \\Omega : |\\xi_n(\\omega)-\\xi(\\omega)| > \\varepsilon \\}) \\underset{n \\to \\infty}{\\to} 0$$"
   ]
  },
  {
   "cell_type": "markdown",
   "metadata": {
    "id": "qI3fzwdkE9Wz"
   },
   "source": [
    "### Слабая сходимость мер.\n",
    "$\\mu_n \\overset{w}{\\to} \\mu$, если для любой непрерывной функции $\\phi(x)$ определенной на $\\mathbb{R}$   \n",
    "\n",
    "$$\\int_{\\mathbb{R}}\\phi(x)\\mu_n(dx) \\to \\int_{\\mathbb{R}}\\phi(x)\\mu(dx)$$"
   ]
  },
  {
   "cell_type": "markdown",
   "metadata": {
    "id": "49XjPiF7E9W0"
   },
   "source": [
    "### Сходимость по распределению \n",
    "\n",
    "**Определение через слабую сходимость мер:**\n",
    "\n",
    "$\\xi_n \\overset{d}{\\to} \\xi$, если для любой непрерывной функции $\\phi(x)$ определенной на $\\mathbb{R}$\n",
    "\n",
    "$$\\int_{\\Omega}\\phi(\\xi_n(\\omega))\\mathbb{P}(d\\omega) \\to \\int_{\\Omega}\\phi(\\xi(\\omega))\\mathbb{P}(d\\omega)$$\n",
    "\n",
    "В интегралах Лебега можно производить замену переменных, поэтому:\n",
    "\n",
    "$$\\int_{\\Omega}\\phi(\\xi(\\omega))\\mathbb{P}(d\\omega) = \\int_{\\mathbb{R}}\\phi(x)P^{X}(dx)$$\n",
    "\n",
    "А значит: \n",
    "\n",
    "$$\\int_{\\mathbb{R}}\\phi(x)P^{x_n}(dx) \\to \\int_{\\mathbb{R}}\\phi(x)P^{X}(dx)$$\n",
    "\n",
    "А также если немного порефлексировать, то можно заметить, что:\n",
    "\n",
    "$$\\int_{\\Omega}\\phi(\\xi(\\omega))\\mathbb{P}(d\\omega) = \\mathbb{E}(\\phi(\\xi))$$\n"
   ]
  },
  {
   "cell_type": "markdown",
   "metadata": {
    "id": "Ytj8jzfSE9W0"
   },
   "source": [
    "### Сходимость по распределению \n",
    "\n",
    "**Определение через функции распределения:**\n",
    "\n",
    "$\\xi_n \\overset{d}{\\to} \\xi$, если для любого $x$, в котором $F_{\\xi}(x)$ непрерывна имеет место сходимость:\n",
    "\n",
    "$$\\forall x F_{\\xi_n}(x) \\to F_{\\xi}(x), F_{\\mu}(x) = \\mu((-\\infty, x))$$\n"
   ]
  },
  {
   "cell_type": "markdown",
   "metadata": {},
   "source": [
    "### Важная теоремка:\n",
    "Из сходимости почти наверное следует сходимость по вероятности, а из сходимости по вероятности - слабая сходимость "
   ]
  },
  {
   "cell_type": "markdown",
   "metadata": {},
   "source": [
    "------------------"
   ]
  },
  {
   "cell_type": "markdown",
   "metadata": {},
   "source": [
    "# На паре"
   ]
  },
  {
   "cell_type": "markdown",
   "metadata": {},
   "source": [
    "**1**. Пусть $\\xi_n \\overset{\\textrm{п.н.}}{\\to} 1$ и $\\mu_n \\overset{\\textrm{п.н.}}{\\to} 1$. \n",
    "Тогда $\\xi_n + \\mu_n \\overset{\\textrm{п.н.}}{\\to} 2$\n",
    "\n",
    "**2**\n",
    "- Пусть $\\xi_n \\overset{п.н.}{\\to} \\xi$ и $g(x)$ - непрерывная функция. Докажите, что $g(\\xi_n) \\overset{п.н.}{\\to} g(\\xi)$ \n",
    "- Пусть $\\xi_n \\overset{d}{\\to} \\xi$ и $g(x)$ - непрерывная функция. Докажите, что $g(\\xi_n) \\overset{d}{\\to} g(\\xi)$\n",
    "\n",
    "\n",
    "\n",
    "**3**. Пусть $(\\xi_n - \\xi)^2 \\overset{\\mathbb{P}}{\\to} 0$. Доказать, что $\\xi_n \\overset{\\mathbb{P}}{\\to} \\xi$.\n"
   ]
  },
  {
   "cell_type": "markdown",
   "metadata": {
    "id": "s0B2ufiPE9W2"
   },
   "source": [
    "**4**\n",
    "- Доказать переходы между каждой парой (более сильная сходимость => более слабая сходимость).\n",
    "- Для каждой пары привести пример, когда есть более слабая сходимость, но нет более сильной.\n",
    "\n",
    "**5.** Если $\\xi_n \\overset{d}{\\to} const$, то $\\xi_n \\overset{\\mathbb{P}}{\\to} const$\n"
   ]
  },
  {
   "cell_type": "markdown",
   "metadata": {},
   "source": [
    "# Дома"
   ]
  },
  {
   "cell_type": "markdown",
   "metadata": {},
   "source": [
    "**1.** (1) Пусть $\\xi_n \\overset{\\textrm{п.н.}}{\\to} 1$ и $\\mu_n \\overset{\\textrm{п.н.}}{\\to} 1$. \n",
    "Тогда $\\xi_n\\mu_n \\overset{\\textrm{п.н.}}{\\to} 1$"
   ]
  },
  {
   "cell_type": "markdown",
   "metadata": {},
   "source": [
    "**2.** (1) Пусть $\\xi_n \\overset{\\mathbb{P}}{\\to} 1$ и $\\mu_n \\overset{\\mathbb{P}}{\\to} 1$. \n",
    "Тогда $\\frac{1}{\\xi_n + \\mu_n} \\overset{\\mathbb{P}}{\\to} \\frac{1}{2}$"
   ]
  },
  {
   "cell_type": "markdown",
   "metadata": {},
   "source": [
    "**3.** (1) Пусть $\\xi_n$ - последовательность независимых и равномерно распределенных на [0,1] случайных величин. \n",
    "\n",
    "Найдите последовательность распределений случайной величины $m_n=\\min (\\xi_1,\\ldots,\\xi_n)$. Докажите, что $m_n$ стремится почти наверное к 0"
   ]
  },
  {
   "cell_type": "markdown",
   "metadata": {
    "id": "4QtSTR6cE9W3"
   },
   "source": [
    "**4.** (1) Пусть $\\xi_n \\overset{d}{\\to} \\xi$ и $a_n \\to a$, где $\\{a_n\\}$ - числовая последовательность ($a \\in \\mathbb{R}$). Доказать $a_n\\xi_n \\overset{d}{\\to} a\\xi$\n",
    "\n",
    "**5.** Пусть $\\alpha > 0$ и $E|\\xi_n|^\\alpha < \\infty$ при всех n. Доказать, что следующие\n",
    "утверждения:\n",
    "\n",
    "- (1) Если $\\xi_n \\overset{\\mathbb{P}}{\\to} \\xi$, то $E|\\xi_n - \\xi|^\\alpha \\underset{n \\to \\infty}{\\to} 0$ \n",
    "- (1) Если $E|\\xi_n - \\xi|^\\alpha \\underset{n \\to \\infty}{\\to} 0$, то $\\xi_n \\overset{\\mathbb{P}}{\\to} \\xi$ "
   ]
  },
  {
   "cell_type": "markdown",
   "metadata": {},
   "source": [
    "# Гробы (все по 2)"
   ]
  },
  {
   "cell_type": "markdown",
   "metadata": {},
   "source": [
    "\n",
    "**1.** Пусть $\\{\\xi_i\\}_{i=1}^{\\infty}$ - положительно определенные и $E|\\xi_n - \\xi| \\to 0$. \n",
    "Сходится ли $E|\\xi_n + k| \\to E|\\xi+k|$ для k из $\\mathbb{R_{+}}$. "
   ]
  },
  {
   "cell_type": "markdown",
   "metadata": {},
   "source": [
    "![title](tombs1.png)"
   ]
  }
 ],
 "metadata": {
  "kernelspec": {
   "display_name": "Python 3",
   "language": "python",
   "name": "python3"
  },
  "language_info": {
   "codemirror_mode": {
    "name": "ipython",
    "version": 3
   },
   "file_extension": ".py",
   "mimetype": "text/x-python",
   "name": "python",
   "nbconvert_exporter": "python",
   "pygments_lexer": "ipython3",
   "version": "3.8.8"
  }
 },
 "nbformat": 4,
 "nbformat_minor": 4
}
