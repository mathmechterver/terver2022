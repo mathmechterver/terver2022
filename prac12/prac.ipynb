{
 "cells": [
  {
   "cell_type": "markdown",
   "metadata": {
    "id": "-yePWnZCO3-q"
   },
   "source": [
    "# 12. Условное распределение и матожидание"
   ]
  },
  {
   "cell_type": "markdown",
   "metadata": {},
   "source": [
    "<img src='data/cond.jpeg' width=300/>"
   ]
  },
  {
   "cell_type": "markdown",
   "metadata": {
    "id": "bc21279e-5c02-444f-af18-c24c253d2ac0"
   },
   "source": [
    "## Содержание\n",
    "\n",
    "* [Теория](#chapter1)\n",
    "* [Задачи на пару](#chapter2)\n",
    "* [Домашнее задание](#chapter3)\n",
    "* [Гробы](#chapter4)"
   ]
  },
  {
   "cell_type": "markdown",
   "metadata": {},
   "source": [
    "## Теория <a class=\"anchor\" id=\"chapter1\"></a>"
   ]
  },
  {
   "cell_type": "markdown",
   "metadata": {},
   "source": [
    "Введем условную плотность аналогично условной вероятности\n",
    "\n",
    "$$\\rho_{\\xi|\\eta}(x| y) = \\frac{\\rho_{\\xi,\\eta}(x, y)}{\\rho_{\\eta}(y)}$$\n",
    "\n",
    "$$\\rho_{\\xi,\\eta}(x, y) = \\rho_{\\xi|\\eta}(x| y)\\rho_{\\eta}(y) = \\rho_{\\eta|\\xi}(y| x)\\rho_{\\xi}(x)$$\n",
    "\n",
    "Можем найти **маргинальное** распределение через условную вероятность\n",
    "$$\\rho_{\\eta}(y) = \\int_{-\\infty}^{\\infty} \\rho_{\\xi, \\eta}(x, y)dy = \\int_{-\\infty}^{\\infty} \\rho_{\\eta|\\xi}(y|x)\\rho_{\\xi}(x)dx$$"
   ]
  },
  {
   "cell_type": "markdown",
   "metadata": {},
   "source": [
    "Можем повесить на это интеграл и получить. $A$ - некоторое событие, которое получится при интегрировании по $B_A$ "
   ]
  },
  {
   "cell_type": "markdown",
   "metadata": {},
   "source": [
    "$$\\int_{B_A}\\rho_{\\eta}(y)dy = P(A) = \\int_{-\\infty}^{+\\infty}P(A|\\xi=x)\\rho_{\\xi}(x)dx = \\int_{-\\infty}^{+\\infty}\\int_{B_A}\\rho_{\\eta|\\xi}(y|x)\\rho_{\\xi}(x)dx$$"
   ]
  },
  {
   "cell_type": "markdown",
   "metadata": {},
   "source": [
    "И вывод Баеса\n",
    "\n",
    "$$\\rho_{\\xi|\\eta}(x| y) = \\frac{\\rho_{\\xi,\\eta}(x, y)}{\\rho_{\\eta}(y)} = \\frac{\\rho_{\\eta|\\xi}(y| x)\\rho_{\\xi}(x)}{\\int_{-\\infty}^{\\infty} \\rho_{\\eta|\\xi}(y|x)\\rho_{\\xi}(x)dx}$$"
   ]
  },
  {
   "cell_type": "markdown",
   "metadata": {
    "id": "22e7dc9e-e7c7-4982-b3eb-c8578126db45"
   },
   "source": [
    "Матожидание строится аналогично стандартному, **но** условное матожидание - это **функция** от условия. \n",
    "\n",
    "$$\\mathbb{E}(\\xi|\\eta)(y) = \\sum xP(\\xi=x|\\eta=y)dx$$\n",
    "\n",
    "$$\\mathbb{E}(\\xi|\\eta)(y) = \\int_{-\\infty}^{\\infty}x\\rho_{\\xi|\\eta}(x|y)dx$$\n",
    "\n",
    "Для разбиения $H = (H_1, H_2, H_3)$\n",
    "\n",
    "$$\\mathbb{E}(\\xi|H) = \\left\\{\n",
    "\t\\begin{array}{ccc}\n",
    "\t\\mathbb{E}(\\xi|H_1), H=H_1 \\\\\n",
    "    \\mathbb{E}(\\xi|H_2), H=H_2 \\\\\n",
    "    \\mathbb{E}(\\xi|H_3), H=H_3 \\\\\n",
    "\t\\end{array} \\right.$$\n",
    "\n",
    "\n"
   ]
  },
  {
   "cell_type": "markdown",
   "metadata": {
    "id": "kWAf1ncpPYA3"
   },
   "source": [
    "## Задачи на пару <a class=\"anchor\" id=\"chapter2\"></a>"
   ]
  },
  {
   "cell_type": "markdown",
   "metadata": {},
   "source": [
    "**1.**\n",
    "Совместное распределение случайных величин $\\xi$ и $\\eta$ имеет плотность\n",
    "$$\\rho_{\\xi,\\eta}(x,y) =\\left\\{\n",
    "\t\\begin{array}{cc}\n",
    "\t\\frac{1 + 9x^2y^2}{2}, & 0\\leq x, y\\leq 1 \\\\\n",
    "\t0, & otherwise\n",
    "\t\\end{array}\\right.$$\n",
    "    \n",
    "Найдите \n",
    "* $\\rho_{\\xi}$, $\\rho_{\\eta}$\n",
    "* $\\rho_{\\xi|\\eta}$, $\\rho_{\\eta|\\xi}$\n"
   ]
  },
  {
   "cell_type": "markdown",
   "metadata": {
    "id": "keUXImD9bZBt"
   },
   "source": [
    "**2.** Случайные величины $\\xi$ и $\\eta$ независимы и имеют показательное распределение с параметром 1 ($Exp(1)$). Доказать, что отношение $\\frac{\\xi}{\\xi + \\eta}$ распределено равномерно на отрезке $[0, 1]$."
   ]
  },
  {
   "cell_type": "markdown",
   "metadata": {
    "id": "c7097963-d238-4980-a564-08108387c043"
   },
   "source": [
    "**3.** Пусть $\\xi$ - случайная величина, отвечающая за кубик. Посчитайте функции $E(\\xi|H)$ и $D(\\xi|H)$, где образующее разбиение равно $H = (\\{1\\}, \\{2,3\\}, \\{4,5,6\\})$.\n"
   ]
  },
  {
   "cell_type": "markdown",
   "metadata": {
    "id": "8392d430-4800-4656-9143-8d7c88900123"
   },
   "source": [
    "**4.** Двумерное распределение пары целочисленных случайных величин $\\xi$ и $\\eta$ задаётся с помощью таблицы,\n",
    "\n",
    "|$\\xi, \\eta$|$\\xi = -1$|$\\xi = 0$|$\\xi = 1$|    \n",
    "|-|-------------------|------------------|---------|\n",
    "|$\\eta = -1$| $\\frac{1}{8}$     |$\\frac{1}{12}$     |$\\frac{7}{24}$ |\n",
    "|$\\eta = 1$| $\\frac{5}{24}$   |$\\frac{1}{6}$     |$\\frac{1}{8}$ |\n",
    "\n",
    "где в пересечении столбца $\\xi = i$ и строки $\\eta = j$ находится вероятность $P\\lbrace{\\xi = i, \\eta = j\\rbrace}$. Найти:\n",
    "\n",
    "- Таблицу условной вероятности. В каждой клетке которой находится $p_{ij} = (\\xi=i|\\eta=j)$.\n",
    "- Мат. ожидание $E(\\xi|\\eta)$\n",
    "- Дисперсия $D(\\xi|\\eta)$"
   ]
  },
  {
   "cell_type": "markdown",
   "metadata": {
    "id": "75e0523c-fe09-4212-8bb9-9ba29a917d56"
   },
   "source": [
    "**5.** Пусть совместная плотность случайного вектора $(\\xi, \\eta)$ равна:\n",
    "$$\\rho_{\\xi,\\eta}(x,y) =\\left\\{\n",
    "\t\\begin{array}{cc}\n",
    "\txe^{-x(y+1)}, & 0\\leq x,y\\\\\n",
    "\t0, & otherwise\n",
    "\t\\end{array}\\right.$$\n",
    "Найти:\n",
    "- одномерные(маргинальные распределения) $\\xi$ и $\\eta$\n",
    "- условные плотности $\\xi$ по $\\eta$ и $\\eta$ по $\\xi$\n",
    "- $E(\\xi|\\eta)$, $E(\\eta|\\xi)$"
   ]
  },
  {
   "cell_type": "markdown",
   "metadata": {
    "id": "kWAf1ncpPYA3"
   },
   "source": [
    "## ДЗ <a class=\"anchor\" id=\"chapter3\"></a>"
   ]
  },
  {
   "cell_type": "markdown",
   "metadata": {},
   "source": [
    "**1.** Совместное распределение случайных величин $\\xi$ и $\\eta$ имеет плотность\n",
    "$$\\rho_{\\xi,\\eta}(x,y) =\\left\\{\n",
    "\t\\begin{array}{cc}\n",
    "\t\\frac{3}{2}(x^2+y^2), & 0\\leq x\\leq 1, 0\\leq y\\leq 1 \\\\\n",
    "\t0, & otherwise\n",
    "\t\\end{array}\\right.$$\n",
    "Найдите  $\\rho_{\\xi|\\eta}$, $\\rho_{\\eta|\\xi}$"
   ]
  },
  {
   "cell_type": "markdown",
   "metadata": {},
   "source": [
    "**2.** Пусть $a \\sim U[1, 2]$, $b \\sim Exp(a)$, а $c \\sim N(b, a)$. \n",
    "Найдите совместное распределение $\\rho_{a,b,c}$"
   ]
  },
  {
   "cell_type": "markdown",
   "metadata": {
    "id": "75c3e287-0c03-4061-8708-8110c0b3ec63"
   },
   "source": [
    "**3.** Двумерное распределение пары целочисленных случайных величин $\\xi$ и $\\eta$ задаётся с помощью таблицы,\n",
    "\n",
    "| | $\\xi = -1$ | $\\xi = 0$ | $\\xi = 1$ |    \n",
    "|--------|-------------------|------------------|---------|\n",
    "| $\\eta = -1$ | $\\frac{1}{8}$   |$\\frac{1}{12}$    | $\\frac{7}{24}$ |\n",
    "| $\\eta = 1$ | $\\frac{5}{24}$   |$\\frac{1}{6}$     | $\\frac{1}{8}$  |\n",
    "\n",
    "где в пересечении столбца $\\xi = i$ и строки $\\eta = j$ находится вероятность $P\\lbrace{\\xi = i, \\eta = j\\rbrace}$. Найти:\n",
    "\n",
    "- Мат. ожидание $E(\\eta|\\xi)$\n",
    "- Дисперсия $D(\\eta|\\xi)$"
   ]
  },
  {
   "cell_type": "markdown",
   "metadata": {
    "id": "9537c124-70e1-4bde-8061-74cf22f48ed8"
   },
   "source": [
    "**4.** Доказать свойство:\n",
    "    $$E(f(\\eta)\\xi|\\eta) = f(\\eta)E(\\xi|\\eta)$$"
   ]
  },
  {
   "cell_type": "markdown",
   "metadata": {
    "id": "22f3e729-0e6e-4e05-a848-476cdafc029d"
   },
   "source": [
    "**5.** Пусть совместная плотность случайного вектора $(\\xi, \\eta)$ равна:\n",
    "$$\\rho_{\\xi,\\eta}(x,y) =\\left\\{\n",
    "\t\\begin{array}{cc}\n",
    "\t4xy, & 0\\leq x,y \\leq \\frac{1}{2}\\\\\n",
    "\t0, & otherwise\n",
    "\t\\end{array}\\right.$$\n",
    "Найти:\n",
    "- одномерные(маргинальные распределения) $\\xi$ и $\\eta$\n",
    "- условные плотности $\\xi$ по $\\eta$ и $\\eta$ по $\\xi$\n",
    "- $E(\\xi|\\eta)$, $E(\\eta|\\xi)$"
   ]
  },
  {
   "cell_type": "markdown",
   "metadata": {
    "id": "kWAf1ncpPYA3"
   },
   "source": [
    "## Гробы <a class=\"anchor\" id=\"chapter4\"></a>"
   ]
  },
  {
   "cell_type": "markdown",
   "metadata": {},
   "source": [
    "**1.** (2) Дана система с.в. $(X,Y)$. При этом $X$ имеет распределение Пуассона, а $Y$ имеет условное при $X=k$ Гамма распределение.\n",
    "Найти двумерную функцию распределения системы? "
   ]
  },
  {
   "cell_type": "markdown",
   "metadata": {},
   "source": [
    "**2.** Пусть $X$ и $Y$ независимы и нормально распределены с параметрами $(m_1, d_1)$ и $(m_2, d_2)$. \n",
    "* условное распределение $X$ при условии $X+Y=b$"
   ]
  },
  {
   "cell_type": "code",
   "execution_count": null,
   "metadata": {},
   "outputs": [],
   "source": []
  }
 ],
 "metadata": {
  "colab": {
   "collapsed_sections": [],
   "name": "Practice.ipynb",
   "provenance": []
  },
  "kernelspec": {
   "display_name": "Python 3",
   "language": "python",
   "name": "python3"
  },
  "language_info": {
   "codemirror_mode": {
    "name": "ipython",
    "version": 3
   },
   "file_extension": ".py",
   "mimetype": "text/x-python",
   "name": "python",
   "nbconvert_exporter": "python",
   "pygments_lexer": "ipython3",
   "version": "3.8.8"
  }
 },
 "nbformat": 4,
 "nbformat_minor": 4
}
